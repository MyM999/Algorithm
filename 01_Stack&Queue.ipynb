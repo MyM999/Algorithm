{
 "cells": [
  {
   "cell_type": "markdown",
   "id": "f017bfcf",
   "metadata": {},
   "source": [
    "# Stack\n",
    "- 영어로 Stack '쌓다'라는 의미\n",
    "- 프로그래밍에서 목록 혹은 리스트에서 접근이 한 쪽에서만 가능한 구조\n",
    "- LIFO(Last_ln,First-Out)가 기본원리 \n",
    "- push,peek,pop"
   ]
  },
  {
   "cell_type": "code",
   "execution_count": null,
   "id": "ad29e11a",
   "metadata": {},
   "outputs": [],
   "source": []
  },
  {
   "cell_type": "code",
   "execution_count": null,
   "id": "a53d4f4b",
   "metadata": {},
   "outputs": [],
   "source": []
  },
  {
   "cell_type": "code",
   "execution_count": 16,
   "id": "758ec4c9",
   "metadata": {},
   "outputs": [],
   "source": [
    "class Stack(list):\n",
    "    push = list.append\n",
    "    \n",
    "    def peek(self):\n",
    "        return self[-1] # self[len(self)-1]\n",
    "                         # pop은 list의 내장함수로 이미 존재"
   ]
  },
  {
   "cell_type": "code",
   "execution_count": 17,
   "id": "a0966439",
   "metadata": {},
   "outputs": [],
   "source": [
    "s = Stack()\n",
    "s.push(1)\n",
    "s.push(5)\n",
    "s.push(10)"
   ]
  },
  {
   "cell_type": "code",
   "execution_count": 18,
   "id": "c82dd5fc",
   "metadata": {},
   "outputs": [
    {
     "name": "stdout",
     "output_type": "stream",
     "text": [
      "my stack is:  [1, 5, 10]\n"
     ]
    }
   ],
   "source": [
    "print(\"my stack is: \",s)"
   ]
  },
  {
   "cell_type": "code",
   "execution_count": 19,
   "id": "10d674f2",
   "metadata": {},
   "outputs": [
    {
     "name": "stdout",
     "output_type": "stream",
     "text": [
      "popped value is :  10\n"
     ]
    }
   ],
   "source": [
    "print(\"popped value is : \", s.pop()) # pop 데이터 10 추출"
   ]
  },
  {
   "cell_type": "code",
   "execution_count": 20,
   "id": "34b82504",
   "metadata": {},
   "outputs": [
    {
     "name": "stdout",
     "output_type": "stream",
     "text": [
      "my stack is:  [1, 5]\n"
     ]
    }
   ],
   "source": [
    "print(\"my stack is: \",s)"
   ]
  },
  {
   "cell_type": "code",
   "execution_count": 21,
   "id": "0663f138",
   "metadata": {},
   "outputs": [
    {
     "name": "stdout",
     "output_type": "stream",
     "text": [
      "peeked value is :  5\n"
     ]
    }
   ],
   "source": [
    "print(\"peeked value is : \", s.peek()) # peek 데이터 추출x"
   ]
  },
  {
   "cell_type": "code",
   "execution_count": 22,
   "id": "95fd5860",
   "metadata": {},
   "outputs": [
    {
     "name": "stdout",
     "output_type": "stream",
     "text": [
      "my stack is:  [1, 5]\n"
     ]
    }
   ],
   "source": [
    "print(\"my stack is: \",s)"
   ]
  },
  {
   "cell_type": "code",
   "execution_count": 23,
   "id": "207df69b",
   "metadata": {},
   "outputs": [],
   "source": [
    "s = []\n",
    "s.append(1)\n",
    "s.append(5)\n",
    "s.append(10)"
   ]
  },
  {
   "cell_type": "code",
   "execution_count": 24,
   "id": "9ca668fe",
   "metadata": {},
   "outputs": [
    {
     "name": "stdout",
     "output_type": "stream",
     "text": [
      "my stack is :  [1, 5, 10]\n"
     ]
    }
   ],
   "source": [
    "print(\"my stack is : \",s)"
   ]
  },
  {
   "cell_type": "code",
   "execution_count": 25,
   "id": "45780c64",
   "metadata": {},
   "outputs": [
    {
     "name": "stdout",
     "output_type": "stream",
     "text": [
      "popped value is : 10\n"
     ]
    }
   ],
   "source": [
    "print(\"popped value is :\", s.pop())"
   ]
  },
  {
   "cell_type": "code",
   "execution_count": 26,
   "id": "dab3bd06",
   "metadata": {},
   "outputs": [
    {
     "name": "stdout",
     "output_type": "stream",
     "text": [
      "my stack is:  [1, 5]\n"
     ]
    }
   ],
   "source": [
    "print(\"my stack is: \",s)"
   ]
  },
  {
   "cell_type": "code",
   "execution_count": 27,
   "id": "c0450b45",
   "metadata": {},
   "outputs": [
    {
     "name": "stdout",
     "output_type": "stream",
     "text": [
      "peeked value is :  5\n"
     ]
    }
   ],
   "source": [
    "print(\"peeked value is : \", s[-1])"
   ]
  },
  {
   "cell_type": "code",
   "execution_count": 28,
   "id": "3efc2403",
   "metadata": {},
   "outputs": [
    {
     "name": "stdout",
     "output_type": "stream",
     "text": [
      "my stack is :  [1, 5]\n"
     ]
    }
   ],
   "source": [
    "print(\"my stack is : \",s )"
   ]
  },
  {
   "cell_type": "markdown",
   "id": "7ad966c0",
   "metadata": {},
   "source": [
    "# Queue\n",
    "- 영어로 Queue '일이 처리되기를 기다리는 리스트\n",
    "- 프로그래밍에서 목록 혹은 리스트에서 접근이 양쪽에서 가능한 구조\n",
    "- FIFO(First-In, First-Out) 기본원리\n",
    "- put,peek,get"
   ]
  },
  {
   "cell_type": "code",
   "execution_count": null,
   "id": "4b2cdb16",
   "metadata": {},
   "outputs": [],
   "source": [
    "# peek 가장먼저 들어간 데이터 확인(추출은x)\n",
    "# put 리스트에 데이터 추가\n",
    "# get 리스트에서 데이터를 추출"
   ]
  },
  {
   "cell_type": "code",
   "execution_count": 46,
   "id": "64c4db83",
   "metadata": {},
   "outputs": [],
   "source": [
    "class Queue(list):\n",
    "    put = list.append\n",
    "    \n",
    "    def peek(self):\n",
    "        return self[0] # 가장앞에있는값 [0,1,2,3,4...-1]\n",
    "    def get(self):\n",
    "        return self.pop(0) # index에 0번째 값"
   ]
  },
  {
   "cell_type": "code",
   "execution_count": 47,
   "id": "9c88f60a",
   "metadata": {},
   "outputs": [],
   "source": [
    "q = Queue()\n",
    "q.put(1)\n",
    "q.put(5)\n",
    "q.put(10)"
   ]
  },
  {
   "cell_type": "code",
   "execution_count": 48,
   "id": "5f3b5ae7",
   "metadata": {},
   "outputs": [
    {
     "name": "stdout",
     "output_type": "stream",
     "text": [
      "my queue is:  [1, 5, 10]\n"
     ]
    }
   ],
   "source": [
    "print(\"my queue is: \", q)"
   ]
  },
  {
   "cell_type": "code",
   "execution_count": 49,
   "id": "52b16f6c",
   "metadata": {},
   "outputs": [
    {
     "name": "stdout",
     "output_type": "stream",
     "text": [
      "removed value is : 1\n"
     ]
    }
   ],
   "source": [
    "print(\"removed value is :\", q.get()) # 0번째 값이니 1이된다."
   ]
  },
  {
   "cell_type": "code",
   "execution_count": 50,
   "id": "bf509272",
   "metadata": {},
   "outputs": [
    {
     "name": "stdout",
     "output_type": "stream",
     "text": [
      "my queue is:  [5, 10]\n"
     ]
    }
   ],
   "source": [
    "print(\"my queue is: \", q) # get함수로 1을 추출했으니 나머지가 5,10"
   ]
  },
  {
   "cell_type": "code",
   "execution_count": 51,
   "id": "64017c5a",
   "metadata": {},
   "outputs": [
    {
     "name": "stdout",
     "output_type": "stream",
     "text": [
      "peeked value is : 5\n"
     ]
    }
   ],
   "source": [
    " print(\"peeked value is :\",q.peek()) # peek은 데이터추출x"
   ]
  },
  {
   "cell_type": "code",
   "execution_count": 52,
   "id": "22e8cf14",
   "metadata": {},
   "outputs": [
    {
     "name": "stdout",
     "output_type": "stream",
     "text": [
      "my queue is:  [5, 10]\n"
     ]
    }
   ],
   "source": [
    "print(\"my queue is: \", q) # peek은 데이터를 추출하지 않으니 5값은 그대로"
   ]
  },
  {
   "cell_type": "code",
   "execution_count": 69,
   "id": "c54cc8aa",
   "metadata": {},
   "outputs": [],
   "source": [
    "from queue import Queue"
   ]
  },
  {
   "cell_type": "code",
   "execution_count": 70,
   "id": "3a18e0b8",
   "metadata": {},
   "outputs": [],
   "source": [
    "q = Queue()\n",
    "q.put(1)\n",
    "q.put(5)\n",
    "q.put(10)"
   ]
  },
  {
   "cell_type": "code",
   "execution_count": 71,
   "id": "33f6eb0b",
   "metadata": {},
   "outputs": [
    {
     "name": "stdout",
     "output_type": "stream",
     "text": [
      "<queue.Queue object at 0x0000016408A285B0>\n"
     ]
    }
   ],
   "source": [
    "print(q)"
   ]
  },
  {
   "cell_type": "markdown",
   "id": "6cebed35",
   "metadata": {},
   "source": [
    "### PYTHON List를 큐로 활용"
   ]
  },
  {
   "cell_type": "code",
   "execution_count": 75,
   "id": "3bc5d0fb",
   "metadata": {},
   "outputs": [],
   "source": [
    "q = []\n",
    "q.append(1)\n",
    "q.append(5)\n",
    "q.append(10)"
   ]
  },
  {
   "cell_type": "code",
   "execution_count": 76,
   "id": "b90ac51f",
   "metadata": {},
   "outputs": [
    {
     "name": "stdout",
     "output_type": "stream",
     "text": [
      "my queue is : [1, 5, 10]\n"
     ]
    }
   ],
   "source": [
    "print(\"my queue is :\", q)"
   ]
  },
  {
   "cell_type": "code",
   "execution_count": 77,
   "id": "3fa41b31",
   "metadata": {},
   "outputs": [
    {
     "name": "stdout",
     "output_type": "stream",
     "text": [
      "removed value is :  1\n"
     ]
    }
   ],
   "source": [
    "print(\"removed value is : \", q.pop(0))"
   ]
  },
  {
   "cell_type": "code",
   "execution_count": 78,
   "id": "0ecdc5d6",
   "metadata": {},
   "outputs": [
    {
     "name": "stdout",
     "output_type": "stream",
     "text": [
      "my queue is : [5, 10]\n"
     ]
    }
   ],
   "source": [
    "print(\"my queue is :\", q)"
   ]
  },
  {
   "cell_type": "code",
   "execution_count": 79,
   "id": "2d08a2fd",
   "metadata": {},
   "outputs": [
    {
     "name": "stdout",
     "output_type": "stream",
     "text": [
      "peeked value is :  5\n"
     ]
    }
   ],
   "source": [
    "print(\"peeked value is : \", q[0])"
   ]
  },
  {
   "cell_type": "code",
   "execution_count": 80,
   "id": "711bae37",
   "metadata": {},
   "outputs": [
    {
     "name": "stdout",
     "output_type": "stream",
     "text": [
      "my queue is : [5, 10]\n"
     ]
    }
   ],
   "source": [
    "print(\"my queue is :\", q)"
   ]
  },
  {
   "cell_type": "code",
   "execution_count": null,
   "id": "a44d59de",
   "metadata": {},
   "outputs": [],
   "source": []
  }
 ],
 "metadata": {
  "kernelspec": {
   "display_name": "Python 3 (ipykernel)",
   "language": "python",
   "name": "python3"
  },
  "language_info": {
   "codemirror_mode": {
    "name": "ipython",
    "version": 3
   },
   "file_extension": ".py",
   "mimetype": "text/x-python",
   "name": "python",
   "nbconvert_exporter": "python",
   "pygments_lexer": "ipython3",
   "version": "3.9.7"
  }
 },
 "nbformat": 4,
 "nbformat_minor": 5
}
