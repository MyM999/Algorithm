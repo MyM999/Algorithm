{
 "cells": [
  {
   "cell_type": "markdown",
   "id": "dcea73d5",
   "metadata": {},
   "source": [
    "# 탐색의 종류\n",
    "- 완전탐색\n",
    "- 이분탐색 \n",
    "- 깊이우선탐색\n",
    "- 너비우선탐색\n",
    "- 문자열탐색\n",
    "- KMP\n",
    "- BM\n"
   ]
  },
  {
   "cell_type": "markdown",
   "id": "7a5079fa",
   "metadata": {},
   "source": [
    "## 완전탐색\n",
    "- 브루트 포스(Brute Force)라고도 불리며 컴퓨터의 빠른 계산 성능을 활용하여 가능한 모든 경우의\n",
    "  수를 탐색하는 효율성 관점에서는 최악의 방법"
   ]
  },
  {
   "cell_type": "markdown",
   "id": "4366834d",
   "metadata": {},
   "source": [
    "## 완전탐색 구현방법\n",
    "1. 반복문\n",
    "2. 재귀함수(동적계획법,백트레킹,탐욕법)"
   ]
  },
  {
   "cell_type": "code",
   "execution_count": 1,
   "id": "1e6cf83f",
   "metadata": {},
   "outputs": [],
   "source": [
    "def solution(trump):\n",
    "    for i in range(len(trump)): \n",
    "        if trump[i] == 8: # i번째 index가 8이라면\n",
    "            return i # i를 반환\n",
    "    return -1 # 아니라면 -1을 반환"
   ]
  },
  {
   "cell_type": "code",
   "execution_count": null,
   "id": "73a122b8",
   "metadata": {},
   "outputs": [],
   "source": []
  },
  {
   "cell_type": "code",
   "execution_count": 2,
   "id": "7bb2f16a",
   "metadata": {},
   "outputs": [],
   "source": [
    "def solutiron(trump, loc):\n",
    "    if trump[loc] == 8: # trump 값이 8이라면 loc를 반환\n",
    "        return loc\n",
    "    else:\n",
    "        return solution(trump, loc+1) # 재귀함수 "
   ]
  },
  {
   "cell_type": "code",
   "execution_count": null,
   "id": "dd2a0ed2",
   "metadata": {},
   "outputs": [],
   "source": []
  },
  {
   "cell_type": "markdown",
   "id": "ab279e3b",
   "metadata": {},
   "source": [
    "## 이분탐색\n",
    "- 이진검색이라고도 표현하며 오름차순으로 정렬된 리스트에서 특정 값의 위치를 찾는 알고리즘\n",
    "  중간의 값을 선택하여 찾고자 하는 값과의 크고 작음을 비교하는 방법"
   ]
  },
  {
   "cell_type": "code",
   "execution_count": 4,
   "id": "23465c03",
   "metadata": {},
   "outputs": [],
   "source": [
    "def solution(trump):\n",
    "    left = 0 #함수시작시 left, right선언\n",
    "    right = len (trump)-1 \n",
    "    while(left<=right): # left가 right보다 작거나 같다면\n",
    "        mid = (left+rifht)//2 # mid값 계산\n",
    "        if trump[mid] == 8: # 8을 찾으면 mid를 반환\n",
    "            return mid\n",
    "        elif trump[mid] < 8: # 8보다 작을경우 left를 mid+1로 반환\n",
    "            left = mid + 1\n",
    "        elif turmp[mid] > 8: # 8보다 클경우 right를 mid-1로 반환\n",
    "            right = mid - 1\n",
    "    return mid"
   ]
  },
  {
   "cell_type": "code",
   "execution_count": null,
   "id": "2fa3d9c3",
   "metadata": {},
   "outputs": [],
   "source": []
  },
  {
   "cell_type": "code",
   "execution_count": null,
   "id": "eafd2c83",
   "metadata": {},
   "outputs": [],
   "source": []
  }
 ],
 "metadata": {
  "kernelspec": {
   "display_name": "Python 3 (ipykernel)",
   "language": "python",
   "name": "python3"
  },
  "language_info": {
   "codemirror_mode": {
    "name": "ipython",
    "version": 3
   },
   "file_extension": ".py",
   "mimetype": "text/x-python",
   "name": "python",
   "nbconvert_exporter": "python",
   "pygments_lexer": "ipython3",
   "version": "3.9.7"
  }
 },
 "nbformat": 4,
 "nbformat_minor": 5
}
